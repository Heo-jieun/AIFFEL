{
 "cells": [
  {
   "cell_type": "code",
   "execution_count": 92,
   "id": "6e166aab",
   "metadata": {},
   "outputs": [],
   "source": [
    "import pandas as pd\n",
    "import numpy as np\n",
    "import matplotlib.pyplot as plt\n",
    "%matplotlib inline\n",
    "%config InlineBackend.figure_format = 'retina'"
   ]
  },
  {
   "cell_type": "markdown",
   "id": "6383f788",
   "metadata": {},
   "source": [
    "1) 데이터 가져오기"
   ]
  },
  {
   "cell_type": "code",
   "execution_count": 94,
   "id": "06f09c09",
   "metadata": {},
   "outputs": [],
   "source": [
    "from sklearn.datasets import load_diabetes"
   ]
  },
  {
   "cell_type": "code",
   "execution_count": 96,
   "id": "2dfe5033",
   "metadata": {},
   "outputs": [
    {
     "name": "stdout",
     "output_type": "stream",
     "text": [
      "feature 1 : age\n",
      "feature 2 : sex\n",
      "feature 3 : bmi\n",
      "feature 4 : bp\n",
      "feature 5 : s1\n",
      "feature 6 : s2\n",
      "feature 7 : s3\n",
      "feature 8 : s4\n",
      "feature 9 : s5\n",
      "feature 10 : s6\n"
     ]
    }
   ],
   "source": [
    "diabetes = load_diabetes()\n",
    "for i, feature_name in enumerate(diabetes.feature_names):\n",
    "    print(f'feature {i+1} : {feature_name}')\n"
   ]
  },
  {
   "cell_type": "code",
   "execution_count": 97,
   "id": "09278112",
   "metadata": {},
   "outputs": [],
   "source": [
    "df_X = diabetes['data']\n",
    "df_y = diabetes['target']"
   ]
  },
  {
   "cell_type": "markdown",
   "id": "eecfa303",
   "metadata": {},
   "source": [
    "2) 모델에 입력할 데이터 X 준비하기\n",
    "3) 모델에 예측할 데이터 y 준비하기"
   ]
  },
  {
   "cell_type": "code",
   "execution_count": 98,
   "id": "c6688047",
   "metadata": {},
   "outputs": [
    {
     "name": "stdout",
     "output_type": "stream",
     "text": [
      "[[ 0.03807591  0.05068012  0.06169621 ... -0.00259226  0.01990842\n",
      "  -0.01764613]\n",
      " [-0.00188202 -0.04464164 -0.05147406 ... -0.03949338 -0.06832974\n",
      "  -0.09220405]\n",
      " [ 0.08529891  0.05068012  0.04445121 ... -0.00259226  0.00286377\n",
      "  -0.02593034]\n",
      " ...\n",
      " [ 0.04170844  0.05068012 -0.01590626 ... -0.01107952 -0.04687948\n",
      "   0.01549073]\n",
      " [-0.04547248 -0.04464164  0.03906215 ...  0.02655962  0.04452837\n",
      "  -0.02593034]\n",
      " [-0.04547248 -0.04464164 -0.0730303  ... -0.03949338 -0.00421986\n",
      "   0.00306441]]\n",
      "\n",
      "[151.  75. 141. 206. 135.  97. 138.  63. 110. 310. 101.  69. 179. 185.\n",
      " 118. 171. 166. 144.  97. 168.  68.  49.  68. 245. 184. 202. 137.  85.\n",
      " 131. 283. 129.  59. 341.  87.  65. 102. 265. 276. 252.  90. 100.  55.\n",
      "  61.  92. 259.  53. 190. 142.  75. 142. 155. 225.  59. 104. 182. 128.\n",
      "  52.  37. 170. 170.  61. 144.  52. 128.  71. 163. 150.  97. 160. 178.\n",
      "  48. 270. 202. 111.  85.  42. 170. 200. 252. 113. 143.  51.  52. 210.\n",
      "  65. 141.  55. 134.  42. 111.  98. 164.  48.  96.  90. 162. 150. 279.\n",
      "  92.  83. 128. 102. 302. 198.  95.  53. 134. 144. 232.  81. 104.  59.\n",
      " 246. 297. 258. 229. 275. 281. 179. 200. 200. 173. 180.  84. 121. 161.\n",
      "  99. 109. 115. 268. 274. 158. 107.  83. 103. 272.  85. 280. 336. 281.\n",
      " 118. 317. 235.  60. 174. 259. 178. 128.  96. 126. 288.  88. 292.  71.\n",
      " 197. 186.  25.  84.  96. 195.  53. 217. 172. 131. 214.  59.  70. 220.\n",
      " 268. 152.  47.  74. 295. 101. 151. 127. 237. 225.  81. 151. 107.  64.\n",
      " 138. 185. 265. 101. 137. 143. 141.  79. 292. 178.  91. 116.  86. 122.\n",
      "  72. 129. 142.  90. 158.  39. 196. 222. 277.  99. 196. 202. 155.  77.\n",
      " 191.  70.  73.  49.  65. 263. 248. 296. 214. 185.  78.  93. 252. 150.\n",
      "  77. 208.  77. 108. 160.  53. 220. 154. 259.  90. 246. 124.  67.  72.\n",
      " 257. 262. 275. 177.  71.  47. 187. 125.  78.  51. 258. 215. 303. 243.\n",
      "  91. 150. 310. 153. 346.  63.  89.  50.  39. 103. 308. 116. 145.  74.\n",
      "  45. 115. 264.  87. 202. 127. 182. 241.  66.  94. 283.  64. 102. 200.\n",
      " 265.  94. 230. 181. 156. 233.  60. 219.  80.  68. 332. 248.  84. 200.\n",
      "  55.  85.  89.  31. 129.  83. 275.  65. 198. 236. 253. 124.  44. 172.\n",
      " 114. 142. 109. 180. 144. 163. 147.  97. 220. 190. 109. 191. 122. 230.\n",
      " 242. 248. 249. 192. 131. 237.  78. 135. 244. 199. 270. 164.  72.  96.\n",
      " 306.  91. 214.  95. 216. 263. 178. 113. 200. 139. 139.  88. 148.  88.\n",
      " 243.  71.  77. 109. 272.  60.  54. 221.  90. 311. 281. 182. 321.  58.\n",
      " 262. 206. 233. 242. 123. 167.  63. 197.  71. 168. 140. 217. 121. 235.\n",
      " 245.  40.  52. 104. 132.  88.  69. 219.  72. 201. 110.  51. 277.  63.\n",
      " 118.  69. 273. 258.  43. 198. 242. 232. 175.  93. 168. 275. 293. 281.\n",
      "  72. 140. 189. 181. 209. 136. 261. 113. 131. 174. 257.  55.  84.  42.\n",
      " 146. 212. 233.  91. 111. 152. 120.  67. 310.  94. 183.  66. 173.  72.\n",
      "  49.  64.  48. 178. 104. 132. 220.  57.]\n"
     ]
    }
   ],
   "source": [
    "df_X = np.array(df_X)\n",
    "df_y = np.array(df_y)\n",
    "print(df_X)\n",
    "print()\n",
    "print(df_y)"
   ]
  },
  {
   "cell_type": "markdown",
   "id": "9701081a",
   "metadata": {},
   "source": [
    "4) train 데이터와 test 데이터로 분리하기"
   ]
  },
  {
   "cell_type": "code",
   "execution_count": 99,
   "id": "6a6c7d90",
   "metadata": {},
   "outputs": [
    {
     "name": "stdout",
     "output_type": "stream",
     "text": [
      "(353, 10) (353,)\n",
      "(89, 10) (89,)\n"
     ]
    }
   ],
   "source": [
    "from sklearn.model_selection import train_test_split\n",
    "X_train, X_test, y_train , y_test = train_test_split(df_X, df_y, test_size = 0.2,random_state = 42)\n",
    "print(X_train.shape, y_train.shape)\n",
    "print(X_test.shape,y_test.shape)"
   ]
  },
  {
   "cell_type": "markdown",
   "id": "3c5890e5",
   "metadata": {},
   "source": [
    "5) 모델 준비하기"
   ]
  },
  {
   "cell_type": "code",
   "execution_count": 100,
   "id": "171fefd5",
   "metadata": {},
   "outputs": [
    {
     "name": "stdout",
     "output_type": "stream",
     "text": [
      "[0.46243369 0.67685094 0.98855265 0.08746596 0.52772863 0.54961871\n",
      " 0.6835569  0.79975707 0.99942102 0.36086107]\n",
      "0.6552409695540846\n"
     ]
    }
   ],
   "source": [
    "W = np.random.rand(10)\n",
    "b = np.random.rand()\n",
    "\n",
    "print(W)\n",
    "print(b)"
   ]
  },
  {
   "cell_type": "code",
   "execution_count": 101,
   "id": "7a6cac09",
   "metadata": {},
   "outputs": [],
   "source": [
    "# 모델\n",
    "def model(X, W, b):\n",
    "    prediction = 0\n",
    "    for i in range(10):\n",
    "        prediction += X[:,i]*W[i]\n",
    "        prediction += b\n",
    "    return prediction"
   ]
  },
  {
   "cell_type": "markdown",
   "id": "a38d2c33",
   "metadata": {},
   "source": [
    "6) 손실함수 loss 정의하기"
   ]
  },
  {
   "cell_type": "code",
   "execution_count": 102,
   "id": "266b4534",
   "metadata": {},
   "outputs": [],
   "source": [
    "def MSE(predic,y):\n",
    "    loss = ((predic-y)**2).mean()\n",
    "    return loss\n",
    "\n",
    "def loss(X, W, b, y):\n",
    "    predic = model(X,W,b)\n",
    "    loss = MSE(predic, y)\n",
    "    return loss"
   ]
  },
  {
   "cell_type": "markdown",
   "id": "96939a2b",
   "metadata": {},
   "source": [
    "7) 기울기를 구하는 gradient 함수 구현하기"
   ]
  },
  {
   "cell_type": "code",
   "execution_count": 103,
   "id": "03cbc4b8",
   "metadata": {},
   "outputs": [],
   "source": [
    "def gradient(X, W, b, y):\n",
    "    # N 은 데이터 포인트의 개수\n",
    "    N = len(y)\n",
    "    # y_pred준비\n",
    "    y_pred = model(X, W, b)\n",
    "    #gradient 계산\n",
    "    dW = 1/N * 2 * X.T.dot(y_pred -y)\n",
    "    #b의 gradient 계산\n",
    "    db = 2 * (y_pred -y).mean()\n",
    "    return dW, db\n",
    "    "
   ]
  },
  {
   "cell_type": "markdown",
   "id": "768033b0",
   "metadata": {},
   "source": [
    "8) 하이퍼 파라미터인 학습률 설정하기"
   ]
  },
  {
   "cell_type": "code",
   "execution_count": 104,
   "id": "c237a7f2",
   "metadata": {},
   "outputs": [],
   "source": [
    "LEARNING_RATE = 0.001\n"
   ]
  },
  {
   "cell_type": "markdown",
   "id": "70bcb980",
   "metadata": {},
   "source": [
    "9) 모델 학습하기"
   ]
  },
  {
   "cell_type": "code",
   "execution_count": 110,
   "id": "094a1211",
   "metadata": {
    "scrolled": false
   },
   "outputs": [
    {
     "name": "stdout",
     "output_type": "stream",
     "text": [
      "Iteration 100 : Loss 3326.6693\n",
      "Iteration 200 : Loss 3326.2004\n",
      "Iteration 300 : Loss 3325.7323\n",
      "Iteration 400 : Loss 3325.2648\n",
      "Iteration 500 : Loss 3324.7980\n",
      "Iteration 600 : Loss 3324.3319\n",
      "Iteration 700 : Loss 3323.8664\n",
      "Iteration 800 : Loss 3323.4017\n",
      "Iteration 900 : Loss 3322.9376\n",
      "Iteration 1000 : Loss 3322.4742\n",
      "Iteration 1100 : Loss 3322.0115\n",
      "Iteration 1200 : Loss 3321.5494\n",
      "Iteration 1300 : Loss 3321.0881\n",
      "Iteration 1400 : Loss 3320.6274\n",
      "Iteration 1500 : Loss 3320.1674\n",
      "Iteration 1600 : Loss 3319.7080\n",
      "Iteration 1700 : Loss 3319.2493\n",
      "Iteration 1800 : Loss 3318.7913\n",
      "Iteration 1900 : Loss 3318.3340\n",
      "Iteration 2000 : Loss 3317.8773\n",
      "Iteration 2100 : Loss 3317.4212\n",
      "Iteration 2200 : Loss 3316.9659\n",
      "Iteration 2300 : Loss 3316.5112\n",
      "Iteration 2400 : Loss 3316.0571\n",
      "Iteration 2500 : Loss 3315.6037\n",
      "Iteration 2600 : Loss 3315.1510\n",
      "Iteration 2700 : Loss 3314.6989\n",
      "Iteration 2800 : Loss 3314.2475\n",
      "Iteration 2900 : Loss 3313.7968\n",
      "Iteration 3000 : Loss 3313.3466\n",
      "Iteration 3100 : Loss 3312.8972\n",
      "Iteration 3200 : Loss 3312.4483\n",
      "Iteration 3300 : Loss 3312.0002\n",
      "Iteration 3400 : Loss 3311.5526\n",
      "Iteration 3500 : Loss 3311.1057\n",
      "Iteration 3600 : Loss 3310.6595\n",
      "Iteration 3700 : Loss 3310.2139\n",
      "Iteration 3800 : Loss 3309.7689\n",
      "Iteration 3900 : Loss 3309.3246\n",
      "Iteration 4000 : Loss 3308.8809\n",
      "Iteration 4100 : Loss 3308.4378\n",
      "Iteration 4200 : Loss 3307.9954\n",
      "Iteration 4300 : Loss 3307.5536\n",
      "Iteration 4400 : Loss 3307.1125\n",
      "Iteration 4500 : Loss 3306.6719\n",
      "Iteration 4600 : Loss 3306.2320\n",
      "Iteration 4700 : Loss 3305.7928\n",
      "Iteration 4800 : Loss 3305.3541\n",
      "Iteration 4900 : Loss 3304.9161\n",
      "Iteration 5000 : Loss 3304.4787\n",
      "Iteration 5100 : Loss 3304.0419\n",
      "Iteration 5200 : Loss 3303.6058\n",
      "Iteration 5300 : Loss 3303.1702\n",
      "Iteration 5400 : Loss 3302.7353\n",
      "Iteration 5500 : Loss 3302.3010\n",
      "Iteration 5600 : Loss 3301.8673\n",
      "Iteration 5700 : Loss 3301.4343\n",
      "Iteration 5800 : Loss 3301.0018\n",
      "Iteration 5900 : Loss 3300.5700\n",
      "Iteration 6000 : Loss 3300.1387\n",
      "Iteration 6100 : Loss 3299.7081\n",
      "Iteration 6200 : Loss 3299.2781\n",
      "Iteration 6300 : Loss 3298.8487\n",
      "Iteration 6400 : Loss 3298.4199\n",
      "Iteration 6500 : Loss 3297.9917\n",
      "Iteration 6600 : Loss 3297.5641\n",
      "Iteration 6700 : Loss 3297.1371\n",
      "Iteration 6800 : Loss 3296.7107\n",
      "Iteration 6900 : Loss 3296.2849\n",
      "Iteration 7000 : Loss 3295.8597\n",
      "Iteration 7100 : Loss 3295.4351\n",
      "Iteration 7200 : Loss 3295.0111\n",
      "Iteration 7300 : Loss 3294.5877\n",
      "Iteration 7400 : Loss 3294.1649\n",
      "Iteration 7500 : Loss 3293.7426\n",
      "Iteration 7600 : Loss 3293.3210\n",
      "Iteration 7700 : Loss 3292.8999\n",
      "Iteration 7800 : Loss 3292.4795\n",
      "Iteration 7900 : Loss 3292.0596\n",
      "Iteration 8000 : Loss 3291.6403\n",
      "Iteration 8100 : Loss 3291.2216\n",
      "Iteration 8200 : Loss 3290.8035\n",
      "Iteration 8300 : Loss 3290.3860\n",
      "Iteration 8400 : Loss 3289.9690\n",
      "Iteration 8500 : Loss 3289.5527\n",
      "Iteration 8600 : Loss 3289.1369\n",
      "Iteration 8700 : Loss 3288.7217\n",
      "Iteration 8800 : Loss 3288.3070\n",
      "Iteration 8900 : Loss 3287.8930\n",
      "Iteration 9000 : Loss 3287.4795\n",
      "Iteration 9100 : Loss 3287.0665\n",
      "Iteration 9200 : Loss 3286.6542\n",
      "Iteration 9300 : Loss 3286.2424\n",
      "Iteration 9400 : Loss 3285.8312\n",
      "Iteration 9500 : Loss 3285.4206\n",
      "Iteration 9600 : Loss 3285.0105\n",
      "Iteration 9700 : Loss 3284.6010\n",
      "Iteration 9800 : Loss 3284.1921\n",
      "Iteration 9900 : Loss 3283.7837\n",
      "Iteration 10000 : Loss 3283.3759\n"
     ]
    }
   ],
   "source": [
    "losses = []\n",
    "\n",
    "for i in range(1, 10001):\n",
    "    dW, db = gradient(X_train, W, b, y_train)\n",
    "    W -= LEARNING_RATE*dW\n",
    "    b -= LEARNING_RATE*db\n",
    "    L = loss(X_train, W, b, y_train)\n",
    "    losses.append(L)\n",
    "    if i % 100 ==0:\n",
    "        print('Iteration %d : Loss %0.4f' %(i,L))\n",
    "        "
   ]
  },
  {
   "cell_type": "code",
   "execution_count": 111,
   "id": "de3a2763",
   "metadata": {},
   "outputs": [
    {
     "data": {
      "image/png": "[encoded data removed]",
      "text/plain": [
       "<Figure size 432x288 with 1 Axes>"
      ]
     },
     "metadata": {
      "image/png": {
       "height": 248,
       "width": 382
      },
      "needs_background": "light"
     },
     "output_type": "display_data"
    }
   ],
   "source": [
    "import matplotlib.pyplot as plt\n",
    "plt.plot(losses)\n",
    "plt.show()"
   ]
  },
  {
   "cell_type": "code",
   "execution_count": 115,
   "id": "8f6de924",
   "metadata": {},
   "outputs": [
    {
     "name": "stdout",
     "output_type": "stream",
     "text": [
      "2996.5772773516032\n"
     ]
    },
    {
     "data": {
      "image/png": "[encoded data removed]",
      "text/plain": [
       "<Figure size 432x288 with 1 Axes>"
      ]
     },
     "metadata": {
      "image/png": {
       "height": 248,
       "width": 375
      },
      "needs_background": "light"
     },
     "output_type": "display_data"
    }
   ],
   "source": [
    "prediction = model(X_test, W, b)\n",
    "mse = loss(X_test, W, b, y_test)\n",
    "\n",
    "print(mse)\n",
    "\n",
    "plt.scatter(X_test[:,0], y_test)\n",
    "plt.scatter(X_test[:,0], prediction)\n",
    "plt.show()"
   ]
  },
  {
   "cell_type": "code",
   "execution_count": null,
   "id": "8666dfce",
   "metadata": {},
   "outputs": [],
   "source": []
  }
 ],
 "metadata": {
  "kernelspec": {
   "display_name": "Python 3 (ipykernel)",
   "language": "python",
   "name": "python3"
  },
  "language_info": {
   "codemirror_mode": {
    "name": "ipython",
    "version": 3
   },
   "file_extension": ".py",
   "mimetype": "text/x-python",
   "name": "python",
   "nbconvert_exporter": "python",
   "pygments_lexer": "ipython3",
   "version": "3.9.7"
  }
 },
 "nbformat": 4,
 "nbformat_minor": 5
}
