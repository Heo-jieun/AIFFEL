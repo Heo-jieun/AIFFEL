{
 "cells": [
  {
   "cell_type": "markdown",
   "id": "d50dd626",
   "metadata": {},
   "source": [
    "# n면체 주사위 만들기 "
   ]
  },
  {
   "cell_type": "code",
   "execution_count": 1,
   "id": "cd006f96",
   "metadata": {},
   "outputs": [
    {
     "name": "stdout",
     "output_type": "stream",
     "text": [
      "please input number6\n",
      "행운의 숫자는? 3\n"
     ]
    }
   ],
   "source": [
    "from random import randrange\n",
    "\n",
    "# Q. n면체 주사위 위젯의 전체 코드를 작성해봅시다.\n",
    "\n",
    "class FunnyDice:\n",
    "    def __init__(self, n=6):\n",
    "        self.n = n\n",
    "        self.dice = list(range(1,n+1))\n",
    "    \n",
    "    def throw(self):\n",
    "        self.idx = randrange(0,self.n)\n",
    "        self.dice_num = self.dice[self.idx]\n",
    "    \n",
    "    def getval(self):\n",
    "        return self.dice_num\n",
    "\n",
    "\n",
    "    def setval(self, val):\n",
    "        if val <= n:\n",
    "            self.val = val\n",
    "        else:\n",
    "            msg = f\"number is bigger than dice number\"\n",
    "            raise ValueError(msg)\n",
    "\n",
    "def get_inputs():\n",
    "    val = int(input(\"please input number\"))\n",
    "    return val\n",
    "\n",
    "def main():\n",
    "    n = get_inputs()\n",
    "    mydice = FunnyDice(n)\n",
    "    mydice.throw()\n",
    "    print(\"행운의 숫자는? {}\".format(mydice.getval()))\n",
    "\n",
    "if __name__ == '__main__':\n",
    "    main()"
   ]
  },
  {
   "cell_type": "markdown",
   "id": "cfc71f3a",
   "metadata": {},
   "source": [
    "# 회고\n",
    "\n",
    "## 프로젝트를 하면서 어려웠던 점\n",
    "1. 간만에 class단위로 코드를 진행하다 보니 getter와 setter에 대한 개념이 제대로 잡히지 않아서 헷갈렸다. \n",
    "2. error를 처리하는게 미숙해서 ValueErorr를 어떻게 처리해야할지 몰랐다.\n",
    "3. 파이썬의 class개념과 메모리 공간을 할당하는 id의 개념이 직과적으로 다가오지 않아서 이해하는게 시간이 걸렸다. \n",
    "\n",
    "## 프로젝트를 하면서 학습한 내용\n",
    "1. 파이썬은 인터프리터 언어로 속도가 느린경향이 있기 때문에 메모리 효율성을 위해서 -5~256까지는 메모리에 미리 할당을 해놓는다.\n",
    "2. inmutable type으로는 int, float, str...이 있다. 이 친구들은 메모리를 불변성을 가지고 있어서 같은 id를 가진다. \n",
    "(_근데 str중에서 왜 특수문자열은 mutable인지 모르겠슴..._)\n",
    "3. class를 사용할때 class_이름()과 class_이름이 다르다는것을 알았다. class_이름()은 각 class마다 다른 객체를 생성하고 class_이름은 같은 객체를 반복해서 사용한다.\n",
    "\n"
   ]
  },
  {
   "cell_type": "code",
   "execution_count": null,
   "id": "7470752d",
   "metadata": {},
   "outputs": [],
   "source": []
  }
 ],
 "metadata": {
  "kernelspec": {
   "display_name": "Python 3 (ipykernel)",
   "language": "python",
   "name": "python3"
  },
  "language_info": {
   "codemirror_mode": {
    "name": "ipython",
    "version": 3
   },
   "file_extension": ".py",
   "mimetype": "text/x-python",
   "name": "python",
   "nbconvert_exporter": "python",
   "pygments_lexer": "ipython3",
   "version": "3.9.7"
  }
 },
 "nbformat": 4,
 "nbformat_minor": 5
}
