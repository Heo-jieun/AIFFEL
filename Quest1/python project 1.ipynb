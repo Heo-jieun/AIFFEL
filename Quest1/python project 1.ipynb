{
 "cells": [
  {
   "cell_type": "markdown",
   "id": "8a0bb028",
   "metadata": {},
   "source": [
    "# 1 : 전화번호 가려주는 프로그램"
   ]
  },
  {
   "cell_type": "code",
   "execution_count": 1,
   "id": "ca4da9d4",
   "metadata": {},
   "outputs": [
    {
     "name": "stdout",
     "output_type": "stream",
     "text": [
      "010-13579-24688\n"
     ]
    },
    {
     "data": {
      "text/plain": [
       "'010-13579-#####'"
      ]
     },
     "execution_count": 1,
     "metadata": {},
     "output_type": "execute_result"
    }
   ],
   "source": [
    "def change_num(nums):\n",
    "    print(nums)\n",
    "    answer = nums.replace(nums[-5:], '#####')\n",
    "    return answer\n",
    "\n",
    "change_num('010-13579-24688')\n"
   ]
  },
  {
   "cell_type": "markdown",
   "id": "c1eaa1b6",
   "metadata": {},
   "source": [
    "# 2 : 리스트 평탄화"
   ]
  },
  {
   "cell_type": "code",
   "execution_count": 2,
   "id": "f2f04b8f",
   "metadata": {},
   "outputs": [
    {
     "data": {
      "text/plain": [
       "[1, 2, 3, 4, 5, 6, 7, 8, 9]"
      ]
     },
     "execution_count": 2,
     "metadata": {},
     "output_type": "execute_result"
    }
   ],
   "source": [
    "def flatten(data):\n",
    "    output = []  # 빈 리스트를 만듭니다.\n",
    "    for ele in data:\n",
    "        if type(ele) == list :\n",
    "            output += flatten(ele)\n",
    "        else :\n",
    "            output.append(ele)\n",
    "\n",
    "    return output\n",
    "\n",
    "a = [[1, 2], 3, [[4, 5, 6], 7], 8, 9]\n",
    "flatten(a)"
   ]
  },
  {
   "cell_type": "markdown",
   "id": "eeabc3d3",
   "metadata": {},
   "source": [
    "# 3 : 10 이하 숫자만 곱해주는 함수"
   ]
  },
  {
   "cell_type": "code",
   "execution_count": 9,
   "id": "e60d1bac",
   "metadata": {},
   "outputs": [
    {
     "data": {
      "text/plain": [
       "30"
      ]
     },
     "execution_count": 9,
     "metadata": {},
     "output_type": "execute_result"
    }
   ],
   "source": [
    "def mul(*values):\n",
    "    output = 1\n",
    "    for num in values:\n",
    "        if num <= 10:\n",
    "            output *= num\n",
    "    return output\n",
    "\n",
    "            \n",
    "\n",
    "mul(3, 12, 10)"
   ]
  },
  {
   "cell_type": "code",
   "execution_count": null,
   "id": "9dd7441e",
   "metadata": {},
   "outputs": [],
   "source": []
  }
 ],
 "metadata": {
  "kernelspec": {
   "display_name": "Python 3 (ipykernel)",
   "language": "python",
   "name": "python3"
  },
  "language_info": {
   "codemirror_mode": {
    "name": "ipython",
    "version": 3
   },
   "file_extension": ".py",
   "mimetype": "text/x-python",
   "name": "python",
   "nbconvert_exporter": "python",
   "pygments_lexer": "ipython3",
   "version": "3.9.7"
  }
 },
 "nbformat": 4,
 "nbformat_minor": 5
}
