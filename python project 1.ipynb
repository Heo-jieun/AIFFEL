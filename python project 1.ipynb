{
 "cells": [
  {
   "cell_type": "markdown",
   "id": "2e40a5c1",
   "metadata": {},
   "source": [
    "# 1 : 전화번호 가려주는 프로그램"
   ]
  },
  {
   "cell_type": "code",
   "execution_count": 1,
   "id": "8fe9cbff",
   "metadata": {},
   "outputs": [],
   "source": [
    "def change_num(nums):\n",
    "    print(nums)\n",
    "    answer = nums.replace(nums[-5:], '#####')\n",
    "    return answer\n"
   ]
  },
  {
   "cell_type": "markdown",
   "id": "b07fab07",
   "metadata": {},
   "source": [
    "# 2 : 리스트 평탄화"
   ]
  },
  {
   "cell_type": "code",
   "execution_count": 4,
   "id": "96429519",
   "metadata": {},
   "outputs": [],
   "source": [
    "def flatten(data):\n",
    "    output = []  # 빈 리스트를 만듭니다.\n",
    "    for ele in data:\n",
    "        if type(ele) == list :\n",
    "            output += flatten(ele)\n",
    "        else :\n",
    "            output.append(ele)\n",
    "\n",
    "    return output"
   ]
  },
  {
   "cell_type": "markdown",
   "id": "01bd03d2",
   "metadata": {},
   "source": [
    "# 3 : 10 이하 숫자만 곱해주는 함수"
   ]
  },
  {
   "cell_type": "code",
   "execution_count": 5,
   "id": "5f84663f",
   "metadata": {},
   "outputs": [],
   "source": [
    "def mul(*values):\n",
    "    output = 1\n",
    "    for num in values:\n",
    "        if num <= 10:\n",
    "            output *= num"
   ]
  },
  {
   "cell_type": "code",
   "execution_count": null,
   "id": "b3f16953",
   "metadata": {},
   "outputs": [],
   "source": []
  }
 ],
 "metadata": {
  "kernelspec": {
   "display_name": "Python 3 (ipykernel)",
   "language": "python",
   "name": "python3"
  },
  "language_info": {
   "codemirror_mode": {
    "name": "ipython",
    "version": 3
   },
   "file_extension": ".py",
   "mimetype": "text/x-python",
   "name": "python",
   "nbconvert_exporter": "python",
   "pygments_lexer": "ipython3",
   "version": "3.9.7"
  }
 },
 "nbformat": 4,
 "nbformat_minor": 5
}
