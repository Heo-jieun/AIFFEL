{
 "cells": [
  {
   "cell_type": "markdown",
   "id": "2a0f52bd",
   "metadata": {},
   "source": [
    "# n면체 주사위 만들기 "
   ]
  },
  {
   "cell_type": "code",
   "execution_count": null,
   "id": "a6b901de",
   "metadata": {},
   "outputs": [],
   "source": [
    "import random\n",
    "\n",
    "###\n",
    "1. n면체 주사위인지 입력\n",
    "2. normal주사위와 random 주사위 중 선택\n",
    "3. random 주사위는 최대 n ~ 최소 1의 숫자중 random으로 주사위 생성\n",
    "4. 주사위 던짐\n",
    "5. 결과확인\n",
    "###\n",
    "\n",
    "class FunnyDice:\n",
    "    def __init__(self, n=6, kind = \"normal\"):\n",
    "        self.n = n\n",
    "        self.kind = kind\n",
    "        self.dice = list(range(1, n+1))\n",
    "    \n",
    "    # 주사위 숫자를 만듦\n",
    "    def make_dice(self):\n",
    "        # 선택한 주사위가 normal이면 일반 주사위 생성\n",
    "        if self.kind == \"normal\":\n",
    "            self.dice = list(range(1,n+1))\n",
    "        # 아닐경우 random하게 숫자 생성\n",
    "        else:\n",
    "            self.dice = [random.choice(self.dice) for i in range(self.n)]\n",
    "\n",
    "    def throw(self):\n",
    "        self.make_dice()\n",
    "\n",
    "        self.idx = random.randrange(0,self.n)\n",
    "        self.dice_num = self.dice[self.idx]\n",
    "\n",
    "    def getval(self):\n",
    "        return self.dice_num\n",
    "\n",
    "    def setval(self,val):\n",
    "        if val <= self.n:\n",
    "            self.dice_num = val\n",
    "        else:\n",
    "            msg = f\"number is bigger than dice_num\"\n",
    "            raise ValueError(msg)\n",
    "\n",
    "# 주사위 숫자와 kind를 입력받는 함수\n",
    "def get_inputs():\n",
    "    val = int(input(\"please input number : \"))\n",
    "    kind = input(\"please input 'normal' or 'random' : \")\n",
    "    return val, kind\n",
    "\n",
    "\n",
    "n, m = get_inputs()\n",
    "mydice = FunnyDice(n, m)\n",
    "mydice.throw()\n",
    "print(mydice.getval())\n",
    "\n"
   ]
  },
  {
   "cell_type": "markdown",
   "id": "c126924b",
   "metadata": {},
   "source": [
    "# 회고\n",
    "\n",
    "## 프로젝트를 하면서 어려웠던 점\n",
    "1. 간만에 class단위로 코드를 진행하다 보니 getter와 setter에 대한 개념이 제대로 잡히지 않아서 헷갈렸다. \n",
    "2. error를 처리하는게 미숙해서 ValueErorr를 어떻게 처리해야할지 몰랐다.\n",
    "3. 파이썬의 class개념과 메모리 공간을 할당하는 id의 개념이 직과적으로 다가오지 않아서 이해하는게 시간이 걸렸다. \n",
    "\n",
    "## 프로젝트를 하면서 학습한 내용\n",
    "1. 파이썬은 인터프리터 언어로 속도가 느린경향이 있기 때문에 메모리 효율성을 위해서 -5~256까지는 메모리에 미리 할당을 해놓는다.\n",
    "2. inmutable type으로는 int, float, str...이 있다. 이 친구들은 불변성을 가지고 있어서 같은 id를 가진다. \n",
    "(_근데 str중에서 왜 특수문자열은 mutable인지 모르겠슴..._)\n",
    "3. class를 사용할때 'class_이름( )'과 'class_이름'이 다르다는것을 알았다. 'class_이름( )'은 각 class마다 다른 객체를 생성하고 'class_이름'은 같은 객체를 반복해서 사용한다.\n",
    "4. 얕은 복사 : 메모리 제일 밖에 있는 주소만 복사, 깊은 복사 : 전체 메모리를 따로 복사\n",
    "[참고](https://velog.io/@kkamyang/Python-%EC%96%95%EC%9D%80-%EB%B3%B5%EC%82%AC-%EA%B9%8A%EC%9D%80-%EB%B3%B5%EC%82%AC-shallow-copy-deep-copy)\n"
   ]
  },
  {
   "cell_type": "code",
   "execution_count": null,
   "id": "a694a6f8",
   "metadata": {},
   "outputs": [],
   "source": []
  }
 ],
 "metadata": {
  "kernelspec": {
   "display_name": "Python 3 (ipykernel)",
   "language": "python",
   "name": "python3"
  },
  "language_info": {
   "codemirror_mode": {
    "name": "ipython",
    "version": 3
   },
   "file_extension": ".py",
   "mimetype": "text/x-python",
   "name": "python",
   "nbconvert_exporter": "python",
   "pygments_lexer": "ipython3",
   "version": "3.9.7"
  }
 },
 "nbformat": 4,
 "nbformat_minor": 5
}
